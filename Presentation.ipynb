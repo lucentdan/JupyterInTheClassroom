{
 "cells": [
  {
   "cell_type": "code",
   "execution_count": null,
   "metadata": {
    "collapsed": true,
    "scrolled": false,
    "slideshow": {
     "slide_type": "skip"
    }
   },
   "outputs": [],
   "source": [
    "!jupyter nbconvert --to slides --post serve Presentation.ipynb"
   ]
  },
  {
   "cell_type": "markdown",
   "metadata": {
    "slideshow": {
     "slide_type": "slide"
    }
   },
   "source": [
    "# Teaching Applied Mathematics with the Jupyter Notebook\n",
    "## (A Workshop)"
   ]
  },
  {
   "cell_type": "markdown",
   "metadata": {
    "slideshow": {
     "slide_type": "slide"
    }
   },
   "source": [
    "## Presenter\n",
    "----\n",
    "\n",
    "Dan Lewis  \n",
    "Associate Professor\n",
    "School of Engineering  \n",
    "Department of Materials Science and Engineering  \n",
    "Rensselaer Polytechnic Institute  \n",
    "\n",
    "\n",
    "[lucentdan@gmail.com](mailto:lucentdan@gmail.com)  \n",
    "[lewisd2@rpi.edu](mailto:lewisd2@rpi.edu)"
   ]
  },
  {
   "cell_type": "markdown",
   "metadata": {
    "slideshow": {
     "slide_type": "skip"
    }
   },
   "source": [
    "# Course Outline\n",
    "----\n",
    "\n",
    "* What you will find out:\n",
    "    * What my class is and why I teach it.\n",
    "    * Why I think the notebook ecosystem is important.\n",
    "    * Demonstrate some key features of my teaching style.\n",
    "    * Show a use case.\n",
    "    * (Afternoon session) Build your own lecture from faux notes.\n",
    "* Presentation Outline:\n",
    "    * MTLE-4720/BMED-4720/ENME483 - Course Intent\n",
    "    * The Ecosystem\n",
    "    * The Notebook\n",
    "    * Python\n",
    "    * Markdown\n",
    "    * Key Libraries\n",
    "    * Jupyter\n",
    "    * Live Reveal\n",
    "    * Slideshow\n",
    "    * Classroom Management\n",
    "    * The \"All in One\" Approach\n",
    "    * Short Example Lecture"
   ]
  },
  {
   "cell_type": "markdown",
   "metadata": {
    "slideshow": {
     "slide_type": "slide"
    }
   },
   "source": [
    "## Part 1:  Presentation of Methods\n",
    "----\n",
    "\n",
    "* Pillars of Modern Engineering Education\n",
    "* Importance of the Notebook Approach\n",
    "* The Key Elements of The Teaching Method\n",
    "* The Course\n",
    "* The Key Components Explained\n",
    "* An Example Lecture"
   ]
  },
  {
   "cell_type": "markdown",
   "metadata": {
    "slideshow": {
     "slide_type": "slide"
    }
   },
   "source": [
    "## The Pillars of Modern Engineering Education\n",
    "----\n",
    "\n",
    "* **The Physical Sciences**  \n",
    "(Chemistry, Physics, Earth and Environmental Science, etc.)\n",
    "* **The Formal Sciences**  \n",
    "(Mathematics, Logic and Reasoning, etc.)\n",
    "* **The Social Sciences**  \n",
    "(Comprehension, Critical Thinking, Communication, etc.)"
   ]
  },
  {
   "cell_type": "markdown",
   "metadata": {
    "slideshow": {
     "slide_type": "skip"
    }
   },
   "source": [
    "The Engineer uses science to build tools to improve others' quality of life.  \n",
    "\n",
    "* What supports our ability to transfer our knowledge and practice of engineering disciplines?  \n",
    "* What basis do we have for communicating and encoding our discipline?  \n",
    "* What can we count on new students to have internalized before we see them for the first class?\n",
    "\n",
    "In general I think we need more emphasis on computational literacy.  Our students don't know how to use computers like engineers would in practice.\n",
    "\n",
    "No significant development in course content has been made in the area of computational literacy since I was an undergraduate.  This may reflect the scarce nature of computers in the early 1990's, but since I've been in univeristy our undergraduate's course looks just like the one I took many years ago.  \n",
    "\n",
    "(Disclaimer:  this is a personal observation and in the area of computational materials research I'm left teaching students a lot of the information and methods myself.  Their computational training is not commensurate with their mathematical, chemical, physical, reading, writing, etc. training.)"
   ]
  },
  {
   "cell_type": "markdown",
   "metadata": {
    "slideshow": {
     "slide_type": "slide"
    }
   },
   "source": [
    "Disclaimers:  \n",
    "* What I will say today are my personal observations\n",
    "* I have no objective data to back up my claims\n",
    "* I have no objective data to demonstrate that my approach is better"
   ]
  },
  {
   "cell_type": "markdown",
   "metadata": {
    "slideshow": {
     "slide_type": "slide"
    }
   },
   "source": [
    "## MTLE-4720/BMED-4720/ENME483\n",
    "\n",
    "**Undergraduate course** <font color='grey'> that </font> **applies mathematical techniques** <font color='grey'> to understand materials engineering topics such as materials structure, symmetry, diffusion, mechanics and physics of solids. The class uses </font> **examples from the materials science and engineering core courses** <font color='grey'> to introduce mathematical concepts and materials-related problem solving skills. Topics include linear algebra, eigenvalues and eigenvectors, quadratic forms, tensor operations, symmetry operations, calculus of several variables, introduction to complex analysis, ordinary and partial differential equations, theory of distributions, and Fourier analysis, transformations, and calculus of  variations </font>."
   ]
  },
  {
   "cell_type": "markdown",
   "metadata": {
    "slideshow": {
     "slide_type": "slide"
    }
   },
   "source": [
    "## Fractures in thought\n",
    "\n",
    "* Do we teach _software packages_ or _foundations of applied mathematics_?"
   ]
  },
  {
   "cell_type": "markdown",
   "metadata": {
    "slideshow": {
     "slide_type": "slide"
    }
   },
   "source": [
    "## MTLE-4720 Course Intent\n",
    "\n",
    "More completely synthesize and augment students' abilities in the  \n",
    "area of mathematics and computational thinking.  We attempt to  \n",
    "achieve this in the following manner:\n",
    "\n",
    "* Choose a suitable model problem (e.g. diffusion)\n",
    "* Teach foundations for solving the problem in different contexts.\n",
    "* Solve the problem as many ways as possible."
   ]
  },
  {
   "cell_type": "markdown",
   "metadata": {
    "slideshow": {
     "slide_type": "slide"
    }
   },
   "source": [
    "## Emphasis\n",
    "\n",
    "The course attempts to provide equal emphasis on:\n",
    "\n",
    "* mathematics,\n",
    "* representation and abstraction,\n",
    "* visualization,\n",
    "* and communication."
   ]
  },
  {
   "cell_type": "markdown",
   "metadata": {
    "slideshow": {
     "slide_type": "slide"
    }
   },
   "source": [
    "## Course Goals\n",
    "---\n",
    "\n",
    "The course seeks to help students develop an ability:\n",
    "\n",
    "* **conceptualize, formulate and solve** <font color='grey'> mathematical problems in materials science and engineering;</font>\n",
    "* **use the techniques, skills and modern engineering tools** <font color='grey'> necessary for engineering practice including symbolic computation tools and numerical solvers.</font>"
   ]
  },
  {
   "cell_type": "markdown",
   "metadata": {
    "slideshow": {
     "slide_type": "slide"
    }
   },
   "source": [
    "## Course Structure\n",
    "---\n",
    "\n",
    "![](Course_Structure.png)"
   ]
  },
  {
   "cell_type": "markdown",
   "metadata": {
    "slideshow": {
     "slide_type": "slide"
    }
   },
   "source": [
    "## The Ecosystem\n",
    "\n",
    "* Python programming language\n",
    "* Jupyter Notebook\n",
    "* Markdown (incl. LaTeX for equations)\n",
    "* Key libraries (Numpy, Matplotlib, SymPy)"
   ]
  },
  {
   "cell_type": "markdown",
   "metadata": {
    "slideshow": {
     "slide_type": "slide"
    }
   },
   "source": [
    "## Python\n",
    "\n",
    "* A high level, interpreted language\n",
    "* A multi-paradigm programming language\n",
    "* Supports object oriented, functional and structured programming\n",
    "* Open source\n",
    "* Dynamically typed\n",
    "* Runs on many common operating systems"
   ]
  },
  {
   "cell_type": "markdown",
   "metadata": {
    "slideshow": {
     "slide_type": "skip"
    }
   },
   "source": [
    "_Why Python?_  \n",
    "\n",
    "My main reasons for using Python with in the classroom setting are pragmatic.  \n",
    "\n",
    "_Computer literacy is not a barrier._  \n",
    "\n",
    "Knowing that engineering students are generally used to \"apps\" and \"office\" suites, setting up a new programming/coding workflow on a student's computer is a barrier.  Python distributions (Anaconda and Enthought, specifically) provide a one-click install that provides the student with the necessary tools to start working in my classroom.  These environments are available for Linux, Windows and OSX.  With some modest tutorials I can get the students into a notebook environment and reading my course notes with little effort.  Approximately 2 out of 15 (or so) students will need direct intervention to help them get started on their personal computers.  I can usually sort this out on the first day of class.  This approach works well at schools where students all have (or are required to have) a laptop computer.\n",
    "\n",
    "Alternatively, a shared filesystem and computer lab can be used.  I worked with a very good team of computer technicians and was able to create the environment on a set of Windows PCs in two days.\n",
    "\n",
    "_Python is dynamically typed._  \n",
    "\n",
    "In some languages (e.g. C, Fortran) you must declare the type of the variable to allocate storage.  In Python this happens dynamically.  In the early stages of learning computation this is beneficial.  I can postpone the discussion on representation of real numbers and memory allocation to later lectures where we discuss how to speed up code.\n",
    "\n",
    "_Python is interpreted rather than compiled._  \n",
    "\n",
    "This, plus the notebook format help the student make rapid progress in development of code and understanding of course material.  Incremental, statement-by-statment development and assembly of complex functions from functioning parts can be used as a development paradigm right in the classroom.\n",
    "\n",
    "_The Jupyter Notebook is Immersive._  \n",
    "\n",
    "The documentation and interactive nature of Python/IPython/Notebook help the learning and development occur directly in the browser.  You never have to take your eyes off the main window.  (I will provide an example of this later.)\n"
   ]
  },
  {
   "cell_type": "markdown",
   "metadata": {
    "slideshow": {
     "slide_type": "slide"
    }
   },
   "source": [
    "## The Jupyter Notebook\n",
    "----\n",
    "\n",
    "* Web-application running in browser\n",
    "* Provides document creation and distribution with other tools\n",
    "* Synthesis of code, visualizations, equations, and text\n",
    "* Enables a seamless interface to IPython, Python, documentation and libraries\n",
    "* Projection of live-coding in class and real-time problem solving\n",
    "* Add other stuff"
   ]
  },
  {
   "cell_type": "markdown",
   "metadata": {
    "slideshow": {
     "slide_type": "skip"
    }
   },
   "source": [
    "_The Jupyter Notebook_\n",
    "\n",
    "The notebook provides a single interface for me and the student to interact with the course notes, presentation materials, and homework development.  This is consciously part of what I call my \"all-in-one\" materials distribution strategy.  The Notebook is a recent and still evolving project and that can be a bit of a challenge when major updates are released requiring minor tweaks to my code.  In defense of the project, my code was the problem each time!\n",
    "\n",
    "The Notebook works in the browser and this provides a familarity for the student as it is my impression that students spend a lot of their \"idle\" computer time in-app or in-browser.  (E-mail, document creation, commerce, etc.)\n",
    "\n",
    "Some good \"notebook habits\" have to be developed by the students, especially if they are used to programming in an IDE or with a compiled languge.  The notebook launches a kernel for the selected language (there is more than just Python) and acts like a \"state machine\" where all the variables and symbols are accessed.  This can be a problem at times, but can be remedied easily by re-launching and re-executing the cells when things go wrong.\n",
    "\n",
    "A major strength of the Notebook is related to the synthesis of text input, equations, visualization and coding.  I think students (and we) are used to compartmentalizing each of these activities.  One familiar workflow might be to write a document in a word processor, manipulate data in a spreadsheet, edit equations in a plug-in, write code in a code editor or IDE and visualize data in a stand-alone visualization package.\n",
    "\n",
    "I feel that this compartmentalization de-emphasizes the need of an engineer or researcher to explain their approach and methods, data collected, calculations, and intellectual contributions.  To use the Notebook to develop a solution to a problem puts all of the options in front of the user - and the conspicuous absence of these elements could (should?) prompt the author to act to improve their communication.\n",
    "\n",
    "Lastly, I use features that permit me to project my live-coding to the class.  I feel that students' observation of my problem solving abilities and methods is instructive.  Although it can be challenging for a student to see the meta-activity if they are focused on the results."
   ]
  },
  {
   "cell_type": "markdown",
   "metadata": {
    "slideshow": {
     "slide_type": "slide"
    }
   },
   "source": [
    "## Markdown\n",
    "----\n",
    "\n",
    "* Software for displaying content on the web changes rapidly.\n",
    "* Traditional paper publishing creates books that are very expensive for students.\n",
    "* Web pages written in HTML can be difficult to maintain.\n",
    "* Markdown is a _humane_ markup language."
   ]
  },
  {
   "cell_type": "markdown",
   "metadata": {
    "slideshow": {
     "slide_type": "skip"
    }
   },
   "source": [
    "_What is Markdown?_\n",
    "\n",
    "A markup language uses a command syntax inline with the content of a document. You are probably most familiar with HTML, but there are others.\n",
    "\n",
    "These languages can be challenging to use if you are starting out or if you are not used to programming. HTML, in partcular, looks more like computer code then what you (ultimately) want to see on a webpage. This is off-putting for content developers.\n",
    "\n",
    "Attitudes now favor writing the content of documents so that they are human readable, and then permitting software (that other people write) to transform your document into something that looks different (usually nicer or more professional) or displays the content in a different type of software where the software controls the formatting. LaTeX is a very mature example of a markup language that scientists and engineers use to prepare formal reports and journal articles.\n",
    "For the most part, a LaTeX document can easily be read by a non-LaTeX programmer.\n",
    "\n",
    "Recently the idea of more humane markup languages has emerged. These languages can easily be read in raw form but they can also be translated by other computer programs into other types of documents.\n",
    "\n",
    "If you've ever sent a text message and used quotes: \" \", asterisks: * *, or underlines: _ _ around a word, then you've already written in a type of \"markdown\". Software intended for the web generally will have some form of markdown available.\n",
    "\n",
    "We feel that focusing on human readable content is an appropriate activity for faculty. Sticking to markdown syntax makes it possible for other software packages to interpret your content and create interactive notebooks, slides, homework assignments, course notes, etc."
   ]
  },
  {
   "cell_type": "markdown",
   "metadata": {
    "slideshow": {
     "slide_type": "slide"
    }
   },
   "source": [
    "For example:\n",
    "\n",
    "`**Hello World!**`\n",
    "\n",
    "`_Hello World!_`\n",
    "\n",
    "produces:\n",
    "\n",
    "**Hello World!**  \n",
    "\n",
    "_Hello World!_"
   ]
  },
  {
   "cell_type": "markdown",
   "metadata": {
    "slideshow": {
     "slide_type": "slide"
    }
   },
   "source": [
    "`* Item 1`  \n",
    "`* Item 2`  \n",
    "`* Item 3`  \n",
    "\n",
    "* Item 1\n",
    "* Item 2\n",
    "* Item 3"
   ]
  },
  {
   "cell_type": "markdown",
   "metadata": {
    "slideshow": {
     "slide_type": "slide"
    }
   },
   "source": [
    "And equations:\n",
    "\n",
    "``\n",
    "$$\n",
    "\\frac{\\partial c}{\\partial t} = D \\frac{\\partial^2 c}{\\partial x^2}\n",
    "$$\n",
    "``\n",
    "\n",
    "renders as:\n",
    "\n",
    "$$\n",
    "\\frac{\\partial c}{\\partial t} = D \\frac{\\partial^2 c}{\\partial x^2}\n",
    "$$"
   ]
  },
  {
   "cell_type": "markdown",
   "metadata": {
    "slideshow": {
     "slide_type": "slide"
    }
   },
   "source": [
    "### Key Libraries\n",
    "----\n",
    "\n",
    "* **NumPy** - provides an array object, matrix operations, efficient access\n",
    "* **Matplotlib** - provides 2D Python plotting library\n",
    "* **SymPy** - provides symbolic mathematics aiming towards a full-featured CAS"
   ]
  },
  {
   "cell_type": "code",
   "execution_count": 6,
   "metadata": {
    "slideshow": {
     "slide_type": "subslide"
    }
   },
   "outputs": [
    {
     "data": {
      "text/plain": [
       "array([2, 3, 4, 5])"
      ]
     },
     "execution_count": 6,
     "metadata": {},
     "output_type": "execute_result"
    }
   ],
   "source": [
    "import numpy as np\n",
    "\n",
    "# Array\n",
    "myArray = np.array([1,2,3,4,5])\n",
    "myArray[1::]"
   ]
  },
  {
   "cell_type": "code",
   "execution_count": null,
   "metadata": {
    "collapsed": true,
    "slideshow": {
     "slide_type": "subslide"
    }
   },
   "outputs": [],
   "source": [
    "# Broadcasting\n",
    "5*myArray"
   ]
  },
  {
   "cell_type": "code",
   "execution_count": 9,
   "metadata": {
    "slideshow": {
     "slide_type": "subslide"
    }
   },
   "outputs": [
    {
     "data": {
      "text/plain": [
       "array([1, 2, 3, 4, 5])"
      ]
     },
     "execution_count": 9,
     "metadata": {},
     "output_type": "execute_result"
    }
   ],
   "source": [
    "# Slicing\n",
    "myArray"
   ]
  },
  {
   "cell_type": "markdown",
   "metadata": {
    "slideshow": {
     "slide_type": "fragment"
    }
   },
   "source": [
    "Broadcasting and slicing reduce/eliminate the need for slow loops in Python.  All the looping is done in C and with appropriate optimization using additional Python tools can be made nearly equivalent to native C/Fortran."
   ]
  },
  {
   "cell_type": "code",
   "execution_count": 12,
   "metadata": {
    "slideshow": {
     "slide_type": "slide"
    }
   },
   "outputs": [
    {
     "data": {
      "image/png": "[encoded data removed]",
      "text/plain": [
       "<matplotlib.figure.Figure at 0x112f06fd0>"
      ]
     },
     "metadata": {},
     "output_type": "display_data"
    },
    {
     "data": {
      "image/png": "[encoded data removed]",
      "text/plain": [
       "<matplotlib.figure.Figure at 0x112eead50>"
      ]
     },
     "metadata": {},
     "output_type": "display_data"
    },
    {
     "data": {
      "image/png": "[encoded data removed]",
      "text/plain": [
       "<matplotlib.figure.Figure at 0x112eea7d0>"
      ]
     },
     "metadata": {},
     "output_type": "display_data"
    }
   ],
   "source": [
    "# Plotting\n",
    "import matplotlib.pyplot as plt\n",
    "\n",
    "x = np.linspace(0, 5, 10)\n",
    "\n",
    "y = x ** 2\n",
    "\n",
    "fig = plt.figure()\n",
    "\n",
    "axes1 = fig.add_axes([0.1, 0.1, 0.8, 0.8]) # main axes\n",
    "axes2 = fig.add_axes([0.2, 0.5, 0.4, 0.3]) # inset axes\n",
    "\n",
    "# main figure\n",
    "axes1.plot(x, y, 'r')\n",
    "axes1.set_xlabel('x')\n",
    "axes1.set_ylabel('y')\n",
    "axes1.set_title('title')\n",
    "\n",
    "# insert\n",
    "axes2.plot(y, x, 'g')\n",
    "axes2.set_xlabel('y')\n",
    "axes2.set_ylabel('x')\n",
    "axes2.set_title('insert title');\n",
    "\n",
    "plt.show()"
   ]
  },
  {
   "cell_type": "code",
   "execution_count": 13,
   "metadata": {
    "slideshow": {
     "slide_type": "slide"
    }
   },
   "outputs": [
    {
     "data": {
      "image/png": "[encoded data removed]",
      "text/latex": [
       "$$x - \\frac{x^{3}}{6} + \\frac{x^{5}}{120} - \\frac{x^{7}}{5040} + \\frac{x^{9}}{362880} + \\mathcal{O}\\left(x^{10}\\right)$$"
      ],
      "text/plain": [
       "     3     5     7       9           \n",
       "    x     x     x       x       ⎛ 10⎞\n",
       "x - ── + ─── - ──── + ────── + O⎝x  ⎠\n",
       "    6    120   5040   362880         "
      ]
     },
     "execution_count": 13,
     "metadata": {},
     "output_type": "execute_result"
    }
   ],
   "source": [
    "import sympy as sp\n",
    "sp.init_printing(use_latex=True)\n",
    "x = sp.symbols('x')\n",
    "\n",
    "# Symbolic Series Representation\n",
    "sp.series(sp.sin(x),x,x0=0,n=10)"
   ]
  },
  {
   "cell_type": "code",
   "execution_count": 16,
   "metadata": {
    "slideshow": {
     "slide_type": "slide"
    }
   },
   "outputs": [
    {
     "data": {
      "image/png": "[encoded data removed]",
      "text/latex": [
       "$$13 \\sin{\\left (x \\right )} \\sin{\\left (2 x \\right )} - 14 \\cos{\\left (x \\right )} \\cos{\\left (2 x \\right )}$$"
      ],
      "text/plain": [
       "13⋅sin(x)⋅sin(2⋅x) - 14⋅cos(x)⋅cos(2⋅x)"
      ]
     },
     "execution_count": 16,
     "metadata": {},
     "output_type": "execute_result"
    }
   ],
   "source": [
    "# Calculus\n",
    "sp.diff(sp.sin(2*x)*sp.cos(x),x,3) "
   ]
  },
  {
   "cell_type": "markdown",
   "metadata": {
    "slideshow": {
     "slide_type": "slide"
    }
   },
   "source": [
    "### NBConvert\n",
    "----\n",
    "\n",
    "* Enables conversion to other formats\n",
    "* LaTeX, HTML, PDF, Markdown, and others.\n",
    "* I use this to create slideshows for class\n",
    "* Create homework solutions in other classes"
   ]
  },
  {
   "cell_type": "code",
   "execution_count": null,
   "metadata": {
    "collapsed": true,
    "slideshow": {
     "slide_type": "slide"
    }
   },
   "outputs": [],
   "source": [
    "# For example, if I were not already in a slide show:\n",
    "\n",
    "!jupyter nbconvert --to slides --post serve Presentation.ipynb"
   ]
  },
  {
   "cell_type": "markdown",
   "metadata": {
    "slideshow": {
     "slide_type": "slide"
    }
   },
   "source": [
    "## Live Reveal\n",
    "----\n",
    "\n",
    "* Jupyter provides extensions that increase the functionality\n",
    "* LiveReveal enables a presentation with live execution of code\n",
    "* I solve problems and demonstrate code in class\n",
    "* Can nudge student solutions along with DIY problems (discussed later)"
   ]
  },
  {
   "cell_type": "code",
   "execution_count": 20,
   "metadata": {
    "slideshow": {
     "slide_type": "slide"
    }
   },
   "outputs": [
    {
     "data": {
      "image/png": "[encoded data removed]",
      "text/latex": [
       "$$\\left [ 0, \\quad 1, \\quad 4, \\quad 9, \\quad 16, \\quad 25, \\quad 36, \\quad 49, \\quad 64, \\quad 81\\right ]$$"
      ],
      "text/plain": [
       "[0, 1, 4, 9, 16, 25, 36, 49, 64, 81]"
      ]
     },
     "execution_count": 20,
     "metadata": {},
     "output_type": "execute_result"
    }
   ],
   "source": [
    "# Example of Live Reveal\n",
    "\n",
    "# Compute the squares from 0 to 9\n",
    "[x**2 for x in range(10)]"
   ]
  },
  {
   "cell_type": "markdown",
   "metadata": {
    "slideshow": {
     "slide_type": "slide"
    }
   },
   "source": [
    "### Classroom Management\n",
    "----\n",
    "\n",
    "* Students read before class\n",
    "* Brief lecture content\n",
    "* Live coding during lecture\n",
    "* DIY problems done in-class\n",
    "* Challenging homework problems (major assessment)\n",
    "* Require writing and visualizations\n",
    "* Final project as exposition of a mathematical concept (major assessment)\n",
    "* Run a weekly Fight Club"
   ]
  },
  {
   "cell_type": "markdown",
   "metadata": {
    "slideshow": {
     "slide_type": "slide"
    }
   },
   "source": [
    "### The All in One Approach\n",
    "----\n",
    "\n",
    "* There is one set of notebooks.\n",
    "* The notebooks are used in presentaton mode\n",
    "* The notebooks are used for the student notes to complete the materials for the class\n",
    "* Live links are provided to supplement lecture materials\n",
    "* Optional and freely available texts are recommended\n",
    "* Attempts to minimize time required to curate materials"
   ]
  },
  {
   "cell_type": "markdown",
   "metadata": {
    "collapsed": true,
    "slideshow": {
     "slide_type": "slide"
    }
   },
   "source": [
    "### A Short Example Lecture\n",
    "----\n",
    "\n",
    "You can link out to lectures from existing cells.  My [Short Lecture on Taylor's Series](./Lecture-10A-Taylors-Series.ipynb) can be accessed by clicking on the link."
   ]
  },
  {
   "cell_type": "markdown",
   "metadata": {
    "slideshow": {
     "slide_type": "slide"
    }
   },
   "source": [
    "## Part 2:  Build Your Own Lecture\n",
    "----\n",
    "\n",
    "In this part of the workshop we will try and build a small lecture that solves the diffusion equation.  I recommend the following order of operations:\n",
    "\n",
    "* Write the Python code you need to solve the problem you wish to present to the class.\n",
    "* Develop your visualizations.\n",
    "* Add explanatory text.\n",
    "* Add images, links, and other course management information.\n",
    "* Add the DIY problems (if you use them).\n",
    "\n",
    "A complete lecture can take 2-3 full days of effort.  That includes coding, developing visualizations, writing prose and setting up the slide show."
   ]
  },
  {
   "cell_type": "markdown",
   "metadata": {
    "slideshow": {
     "slide_type": "slide"
    }
   },
   "source": [
    "## Help Along the Way\n",
    "\n",
    "* I'm going to help you with syntax as we proceed.  \n",
    "* This will still largely be led by the instructor (me) \n",
    "* Don't panic if some of the syntax is non-obvious.  \n",
    "* There is a steep learning curve at the beginning.\n",
    "\n",
    "_Consider how the students feel!_"
   ]
  },
  {
   "cell_type": "markdown",
   "metadata": {
    "slideshow": {
     "slide_type": "skip"
    }
   },
   "source": [
    "# Lecture Title  \n",
    "\n",
    "Instructor I. M. Right  \n",
    "Department of Contraptions  \n",
    "University of Hard Knocks"
   ]
  },
  {
   "cell_type": "markdown",
   "metadata": {
    "slideshow": {
     "slide_type": "skip"
    }
   },
   "source": [
    "## Steady State Diffusion\n",
    "\n",
    "Lorem ipsum dolor sit amet, consectetur adipiscing elit. Mauris et elit ac erat mollis fringilla. Donec at magna felis. Ut commodo lorem vel laoreet molestie. Nam et feugiat dolor. Mauris aliquam ullamcorper dolor, sit amet rutrum mauris tempor vitae. Ut dapibus dolor sed nibh condimentum porta. Quisque nunc neque, elementum ac est ac, faucibus condimentum arcu. Nullam tincidunt lacus vel egestas dapibus.  Lorem ipsum dolor sit amet, consectetur adipiscing elit. Mauris et elit ac erat mollis fringilla. Donec at magna felis. Ut commodo lorem vel laoreet molestie. Nam et feugiat dolor. Mauris aliquam ullamcorper dolor, sit amet rutrum mauris tempor vitae. Ut dapibus dolor sed nibh condimentum porta. Quisque nunc neque, elementum ac est ac, faucibus condimentum arcu. Nullam tincidunt lacus vel egestas dapibus.\n",
    "\n",
    "More at [Wikipedia](https://en.wikipedia.org/wiki/Diffusion)"
   ]
  },
  {
   "cell_type": "markdown",
   "metadata": {
    "slideshow": {
     "slide_type": "skip"
    }
   },
   "source": [
    "![](Diffusion.jpg)"
   ]
  },
  {
   "cell_type": "code",
   "execution_count": 21,
   "metadata": {
    "collapsed": true
   },
   "outputs": [],
   "source": [
    "import sympy as sp"
   ]
  },
  {
   "cell_type": "code",
   "execution_count": 22,
   "metadata": {
    "slideshow": {
     "slide_type": "skip"
    }
   },
   "outputs": [
    {
     "name": "stdout",
     "output_type": "stream",
     "text": [
      "IPython console for SymPy 1.0 (Python 2.7.13-64-bit) (ground types: python)\n",
      "\n",
      "These commands were executed:\n",
      ">>> from __future__ import division\n",
      ">>> from sympy import *\n",
      ">>> x, y, z, t = symbols('x y z t')\n",
      ">>> k, m, n = symbols('k m n', integer=True)\n",
      ">>> f, g, h = symbols('f g h', cls=Function)\n",
      ">>> init_printing()\n",
      "\n",
      "Documentation can be found at http://docs.sympy.org/1.0/\n"
     ]
    }
   ],
   "source": [
    "sp.init_session()"
   ]
  },
  {
   "cell_type": "code",
   "execution_count": 23,
   "metadata": {},
   "outputs": [
    {
     "data": {
      "text/plain": [
       "c"
      ]
     },
     "execution_count": 23,
     "metadata": {},
     "output_type": "execute_result"
    }
   ],
   "source": [
    "sp.var('c', cls=Function)"
   ]
  },
  {
   "cell_type": "code",
   "execution_count": null,
   "metadata": {
    "collapsed": true,
    "slideshow": {
     "slide_type": "skip"
    }
   },
   "outputs": [],
   "source": [
    "# These will have to be groomed from the beginning.  You won't know\n",
    "# which ones you need until the end.  This can be confusing.\n",
    "sp.var('L C_left C_right C1 C2')"
   ]
  },
  {
   "cell_type": "code",
   "execution_count": null,
   "metadata": {
    "collapsed": true,
    "slideshow": {
     "slide_type": "skip"
    }
   },
   "outputs": [],
   "source": [
    "# Define the equation to solve.\n",
    "\n",
    "equationToSolve = sp.diff(c(x),x,2)\n",
    "equationToSolve"
   ]
  },
  {
   "cell_type": "code",
   "execution_count": null,
   "metadata": {
    "collapsed": true,
    "slideshow": {
     "slide_type": "skip"
    }
   },
   "outputs": [],
   "source": [
    "# Solve the equation.\n",
    "solutionOfEquation = dsolve(equationToSolve,c(x))\n",
    "solutionOfEquation"
   ]
  },
  {
   "cell_type": "code",
   "execution_count": null,
   "metadata": {
    "collapsed": true,
    "slideshow": {
     "slide_type": "skip"
    }
   },
   "outputs": [],
   "source": [
    "# Apply boundary conditions.\n",
    "solutionOfEquation.subs([(x,0),(c(0),C_left)])"
   ]
  },
  {
   "cell_type": "code",
   "execution_count": null,
   "metadata": {
    "collapsed": true
   },
   "outputs": [],
   "source": [
    "intermediateSolution = solutionOfEquation.subs([(C1,C_left),(x,L),(c(L),C_right)])\n",
    "intermediateSolution"
   ]
  },
  {
   "cell_type": "code",
   "execution_count": null,
   "metadata": {
    "collapsed": true
   },
   "outputs": [],
   "source": [
    "secondConstant = sp.solveset(intermediateSolution,C2)\n",
    "secondConstant"
   ]
  },
  {
   "cell_type": "code",
   "execution_count": null,
   "metadata": {
    "collapsed": true
   },
   "outputs": [],
   "source": [
    "# Substitute the constants.\n",
    "fullSolution = solutionOfEquation.subs([(C1,C_left),(C2,secondConstant)])\n",
    "fullSolution"
   ]
  },
  {
   "cell_type": "code",
   "execution_count": null,
   "metadata": {
    "collapsed": true,
    "slideshow": {
     "slide_type": "skip"
    }
   },
   "outputs": [],
   "source": [
    "%matplotlib inline\n",
    "import sympy as sp\n",
    "import numpy as np\n",
    "import matplotlib.pyplot as plt\n",
    "from ipywidgets import interact, fixed"
   ]
  },
  {
   "cell_type": "code",
   "execution_count": null,
   "metadata": {
    "collapsed": true
   },
   "outputs": [],
   "source": [
    "def ourSolution(x, cLeft, cRight, L):\n",
    "    return cLeft - x*(cLeft-cRight)/L\n",
    "\n",
    "def makeResultsPlot(cLeft=1.0, cRight=0.0, L=1.0):\n",
    "    plt.figure(figsize=(7,5))\n",
    "    x = np.arange(0,L,0.01)\n",
    "    y = ourSolution(x, cLeft, cRight, L)\n",
    "    plt.plot(x,y)\n",
    "    plt.ylim(0.0,1.1)\n",
    "    plt.xlim(0.0,2.0)\n",
    "    plt.xlabel('Distance')\n",
    "    plt.ylabel('Concentration')\n",
    "    plt.show()\n",
    "\n",
    "interact(makeResultsPlot, cLeft=(0.5,1.0,0.1), cRight=(0,0.5,0.1), L=(1,2,0.1));"
   ]
  },
  {
   "cell_type": "markdown",
   "metadata": {},
   "source": [
    "## A Short Video on Diffusion\n",
    "----"
   ]
  },
  {
   "cell_type": "markdown",
   "metadata": {},
   "source": [
    "<video controls src=\"Diffusion.mp4\" />"
   ]
  },
  {
   "cell_type": "markdown",
   "metadata": {
    "slideshow": {
     "slide_type": "skip"
    }
   },
   "source": [
    "## Summary\n",
    "\n",
    "Lorem ipsum dolor sit amet, consectetur adipiscing elit. Mauris et elit ac erat mollis fringilla. Donec at magna felis. Ut commodo lorem vel laoreet molestie. Nam et feugiat dolor. Mauris aliquam ullamcorper dolor, sit amet rutrum mauris tempor vitae. Ut dapibus dolor sed nibh condimentum porta. Quisque nunc neque, elementum ac est ac, faucibus condimentum arcu. Nullam tincidunt lacus vel egestas dapibus."
   ]
  }
 ],
 "metadata": {
  "anaconda-cloud": {},
  "celltoolbar": "Slideshow",
  "kernelspec": {
   "display_name": "Python 2",
   "language": "python",
   "name": "python2"
  },
  "language_info": {
   "codemirror_mode": {
    "name": "ipython",
    "version": 2
   },
   "file_extension": ".py",
   "mimetype": "text/x-python",
   "name": "python",
   "nbconvert_exporter": "python",
   "pygments_lexer": "ipython2",
   "version": "2.7.13"
  }
 },
 "nbformat": 4,
 "nbformat_minor": 1
}
